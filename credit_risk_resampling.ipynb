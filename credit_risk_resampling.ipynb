{
 "cells": [
  {
   "cell_type": "markdown",
   "metadata": {},
   "source": [
    "# Credit Risk Resampling Techniques"
   ]
  },
  {
   "cell_type": "code",
   "execution_count": 1,
   "metadata": {},
   "outputs": [],
   "source": [
    "import warnings\n",
    "warnings.filterwarnings('ignore')"
   ]
  },
  {
   "cell_type": "code",
   "execution_count": 2,
   "metadata": {},
   "outputs": [],
   "source": [
    "import numpy as np\r\n",
    "import pandas as pd\r\n",
    "from pathlib import Path\r\n",
    "from collections import Counter\r\n",
    "from sklearn.preprocessing import StandardScaler"
   ]
  },
  {
   "cell_type": "markdown",
   "metadata": {},
   "source": [
    "# Read the CSV into DataFrame"
   ]
  },
  {
   "cell_type": "code",
   "execution_count": 3,
   "metadata": {},
   "outputs": [
    {
     "data": {
      "text/html": "<div>\n<style scoped>\n    .dataframe tbody tr th:only-of-type {\n        vertical-align: middle;\n    }\n\n    .dataframe tbody tr th {\n        vertical-align: top;\n    }\n\n    .dataframe thead th {\n        text-align: right;\n    }\n</style>\n<table border=\"1\" class=\"dataframe\">\n  <thead>\n    <tr style=\"text-align: right;\">\n      <th></th>\n      <th>loan_size</th>\n      <th>interest_rate</th>\n      <th>homeowner</th>\n      <th>borrower_income</th>\n      <th>debt_to_income</th>\n      <th>num_of_accounts</th>\n      <th>derogatory_marks</th>\n      <th>total_debt</th>\n      <th>loan_status</th>\n    </tr>\n  </thead>\n  <tbody>\n    <tr>\n      <th>0</th>\n      <td>10700.0</td>\n      <td>7.672</td>\n      <td>own</td>\n      <td>52800</td>\n      <td>0.431818</td>\n      <td>5</td>\n      <td>1</td>\n      <td>22800</td>\n      <td>low_risk</td>\n    </tr>\n    <tr>\n      <th>1</th>\n      <td>8400.0</td>\n      <td>6.692</td>\n      <td>own</td>\n      <td>43600</td>\n      <td>0.311927</td>\n      <td>3</td>\n      <td>0</td>\n      <td>13600</td>\n      <td>low_risk</td>\n    </tr>\n    <tr>\n      <th>2</th>\n      <td>9000.0</td>\n      <td>6.963</td>\n      <td>rent</td>\n      <td>46100</td>\n      <td>0.349241</td>\n      <td>3</td>\n      <td>0</td>\n      <td>16100</td>\n      <td>low_risk</td>\n    </tr>\n    <tr>\n      <th>3</th>\n      <td>10700.0</td>\n      <td>7.664</td>\n      <td>own</td>\n      <td>52700</td>\n      <td>0.430740</td>\n      <td>5</td>\n      <td>1</td>\n      <td>22700</td>\n      <td>low_risk</td>\n    </tr>\n    <tr>\n      <th>4</th>\n      <td>10800.0</td>\n      <td>7.698</td>\n      <td>mortgage</td>\n      <td>53000</td>\n      <td>0.433962</td>\n      <td>5</td>\n      <td>1</td>\n      <td>23000</td>\n      <td>low_risk</td>\n    </tr>\n  </tbody>\n</table>\n</div>",
      "text/plain": "   loan_size  interest_rate homeowner  borrower_income  debt_to_income  \\\n0    10700.0          7.672       own            52800        0.431818   \n1     8400.0          6.692       own            43600        0.311927   \n2     9000.0          6.963      rent            46100        0.349241   \n3    10700.0          7.664       own            52700        0.430740   \n4    10800.0          7.698  mortgage            53000        0.433962   \n\n   num_of_accounts  derogatory_marks  total_debt loan_status  \n0                5                 1       22800    low_risk  \n1                3                 0       13600    low_risk  \n2                3                 0       16100    low_risk  \n3                5                 1       22700    low_risk  \n4                5                 1       23000    low_risk  "
     },
     "execution_count": 3,
     "metadata": {},
     "output_type": "execute_result"
    }
   ],
   "source": [
    "# Load the data\n",
    "file_path = Path('Resources/lending_data.csv')\n",
    "df = pd.read_csv(file_path)\n",
    "df.head()"
   ]
  },
  {
   "cell_type": "markdown",
   "metadata": {},
   "source": [
    "# Split the Data into Training and Testing"
   ]
  },
  {
   "cell_type": "code",
   "execution_count": 4,
   "metadata": {},
   "outputs": [],
   "source": [
    "# Create our features\r\n",
    "X= df.drop(columns=[\"loan_status\", \"homeowner\"])\r\n",
    "\r\n",
    "y=df[\"loan_status\"]"
   ]
  },
  {
   "cell_type": "code",
   "execution_count": 5,
   "metadata": {},
   "outputs": [
    {
     "data": {
      "text/html": "<div>\n<style scoped>\n    .dataframe tbody tr th:only-of-type {\n        vertical-align: middle;\n    }\n\n    .dataframe tbody tr th {\n        vertical-align: top;\n    }\n\n    .dataframe thead th {\n        text-align: right;\n    }\n</style>\n<table border=\"1\" class=\"dataframe\">\n  <thead>\n    <tr style=\"text-align: right;\">\n      <th></th>\n      <th>loan_size</th>\n      <th>interest_rate</th>\n      <th>borrower_income</th>\n      <th>debt_to_income</th>\n      <th>num_of_accounts</th>\n      <th>derogatory_marks</th>\n      <th>total_debt</th>\n    </tr>\n  </thead>\n  <tbody>\n    <tr>\n      <th>count</th>\n      <td>77536.000000</td>\n      <td>77536.000000</td>\n      <td>77536.000000</td>\n      <td>77536.000000</td>\n      <td>77536.000000</td>\n      <td>77536.000000</td>\n      <td>77536.000000</td>\n    </tr>\n    <tr>\n      <th>mean</th>\n      <td>9805.562577</td>\n      <td>7.292333</td>\n      <td>49221.949804</td>\n      <td>0.377318</td>\n      <td>3.826610</td>\n      <td>0.392308</td>\n      <td>19221.949804</td>\n    </tr>\n    <tr>\n      <th>std</th>\n      <td>2093.223153</td>\n      <td>0.889495</td>\n      <td>8371.635077</td>\n      <td>0.081519</td>\n      <td>1.904426</td>\n      <td>0.582086</td>\n      <td>8371.635077</td>\n    </tr>\n    <tr>\n      <th>min</th>\n      <td>5000.000000</td>\n      <td>5.250000</td>\n      <td>30000.000000</td>\n      <td>0.000000</td>\n      <td>0.000000</td>\n      <td>0.000000</td>\n      <td>0.000000</td>\n    </tr>\n    <tr>\n      <th>25%</th>\n      <td>8700.000000</td>\n      <td>6.825000</td>\n      <td>44800.000000</td>\n      <td>0.330357</td>\n      <td>3.000000</td>\n      <td>0.000000</td>\n      <td>14800.000000</td>\n    </tr>\n    <tr>\n      <th>50%</th>\n      <td>9500.000000</td>\n      <td>7.172000</td>\n      <td>48100.000000</td>\n      <td>0.376299</td>\n      <td>4.000000</td>\n      <td>0.000000</td>\n      <td>18100.000000</td>\n    </tr>\n    <tr>\n      <th>75%</th>\n      <td>10400.000000</td>\n      <td>7.528000</td>\n      <td>51400.000000</td>\n      <td>0.416342</td>\n      <td>4.000000</td>\n      <td>1.000000</td>\n      <td>21400.000000</td>\n    </tr>\n    <tr>\n      <th>max</th>\n      <td>23800.000000</td>\n      <td>13.235000</td>\n      <td>105200.000000</td>\n      <td>0.714829</td>\n      <td>16.000000</td>\n      <td>3.000000</td>\n      <td>75200.000000</td>\n    </tr>\n  </tbody>\n</table>\n</div>",
      "text/plain": "          loan_size  interest_rate  borrower_income  debt_to_income  \\\ncount  77536.000000   77536.000000     77536.000000    77536.000000   \nmean    9805.562577       7.292333     49221.949804        0.377318   \nstd     2093.223153       0.889495      8371.635077        0.081519   \nmin     5000.000000       5.250000     30000.000000        0.000000   \n25%     8700.000000       6.825000     44800.000000        0.330357   \n50%     9500.000000       7.172000     48100.000000        0.376299   \n75%    10400.000000       7.528000     51400.000000        0.416342   \nmax    23800.000000      13.235000    105200.000000        0.714829   \n\n       num_of_accounts  derogatory_marks    total_debt  \ncount     77536.000000      77536.000000  77536.000000  \nmean          3.826610          0.392308  19221.949804  \nstd           1.904426          0.582086   8371.635077  \nmin           0.000000          0.000000      0.000000  \n25%           3.000000          0.000000  14800.000000  \n50%           4.000000          0.000000  18100.000000  \n75%           4.000000          1.000000  21400.000000  \nmax          16.000000          3.000000  75200.000000  "
     },
     "execution_count": 5,
     "metadata": {},
     "output_type": "execute_result"
    }
   ],
   "source": [
    "X.describe()"
   ]
  },
  {
   "cell_type": "code",
   "execution_count": 6,
   "metadata": {},
   "outputs": [
    {
     "data": {
      "text/plain": "low_risk     75036\nhigh_risk     2500\nName: loan_status, dtype: int64"
     },
     "execution_count": 6,
     "metadata": {},
     "output_type": "execute_result"
    }
   ],
   "source": [
    "# Check the balance of our target values\r\n",
    "y.value_counts()"
   ]
  },
  {
   "cell_type": "code",
   "execution_count": 12,
   "metadata": {},
   "outputs": [],
   "source": [
    "from sklearn.model_selection import train_test_split\r\n",
    "# Create X_train, X_test, y_train, y_test\r\n",
    "X_train, X_test, y_train, y_test = train_test_split(X, y, random_state=1, stratify=y)"
   ]
  },
  {
   "cell_type": "markdown",
   "metadata": {},
   "source": [
    "## Data Pre-Processing\n",
    "\n",
    "Scale the training and testing data using the `StandardScaler` from `sklearn`. Remember that when scaling the data, you only scale the features data (`X_train` and `X_testing`)."
   ]
  },
  {
   "cell_type": "code",
   "execution_count": 13,
   "metadata": {},
   "outputs": [],
   "source": [
    "# Create the StandardScaler instance\r\n",
    "from sklearn.preprocessing import StandardScaler\r\n",
    "scaler = StandardScaler()\r\n",
    "\r\n"
   ]
  },
  {
   "cell_type": "code",
   "execution_count": 14,
   "metadata": {},
   "outputs": [],
   "source": [
    "# Fit the Standard Scaler with the training data\r\n",
    "# When fitting scaling functions, only train on the training dataset\r\n",
    "X_scaler = scaler.fit(X_train)"
   ]
  },
  {
   "cell_type": "code",
   "execution_count": 15,
   "metadata": {},
   "outputs": [],
   "source": [
    "# Scale the training and testing data\r\n",
    "X_train_scaled = X_scaler.transform(X_train)\r\n",
    "X_test_scaled = X_scaler.transform(X_test)"
   ]
  },
  {
   "cell_type": "markdown",
   "metadata": {},
   "source": [
    "# Simple Logistic Regression"
   ]
  },
  {
   "cell_type": "code",
   "execution_count": 16,
   "metadata": {},
   "outputs": [
    {
     "data": {
      "text/plain": "LogisticRegression(random_state=1)"
     },
     "execution_count": 16,
     "metadata": {},
     "output_type": "execute_result"
    }
   ],
   "source": [
    "from sklearn.linear_model import LogisticRegression\n",
    "model = LogisticRegression(solver='lbfgs', random_state=1)\n",
    "model.fit(X_train, y_train)"
   ]
  },
  {
   "cell_type": "code",
   "execution_count": 17,
   "metadata": {},
   "outputs": [
    {
     "data": {
      "text/plain": "0.9543211898288821"
     },
     "execution_count": 17,
     "metadata": {},
     "output_type": "execute_result"
    }
   ],
   "source": [
    "# Calculated the balanced accuracy score\n",
    "from sklearn.metrics import balanced_accuracy_score\n",
    "y_pred = model.predict(X_test)\n",
    "balanced_accuracy_score(y_test, y_pred)"
   ]
  },
  {
   "cell_type": "code",
   "execution_count": 18,
   "metadata": {},
   "outputs": [
    {
     "data": {
      "text/plain": "array([[  571,    54],\n       [   93, 18666]], dtype=int64)"
     },
     "execution_count": 18,
     "metadata": {},
     "output_type": "execute_result"
    }
   ],
   "source": [
    "# Display the confusion matrix\n",
    "from sklearn.metrics import confusion_matrix\n",
    "confusion_matrix(y_test, y_pred)"
   ]
  },
  {
   "cell_type": "code",
   "execution_count": 19,
   "metadata": {},
   "outputs": [
    {
     "name": "stdout",
     "output_type": "stream",
     "text": [
      "                   pre       rec       spe        f1       geo       iba       sup\n",
      "\n",
      "  high_risk       0.86      0.91      1.00      0.89      0.95      0.90       625\n",
      "   low_risk       1.00      1.00      0.91      1.00      0.95      0.92     18759\n",
      "\n",
      "avg / total       0.99      0.99      0.92      0.99      0.95      0.92     19384\n",
      "\n"
     ]
    }
   ],
   "source": [
    "# Print the imbalanced classification report\n",
    "from imblearn.metrics import classification_report_imbalanced\n",
    "print(classification_report_imbalanced(y_test, y_pred))"
   ]
  },
  {
   "cell_type": "markdown",
   "metadata": {},
   "source": [
    "# Oversampling\n",
    "\n",
    "In this section, you will compare two oversampling algorithms to determine which algorithm results in the best performance. You will oversample the data using the naive random oversampling algorithm and the SMOTE algorithm. For each algorithm, be sure to complete the folliowing steps:\n",
    "\n",
    "1. View the count of the target classes using `Counter` from the collections library. \n",
    "3. Use the resampled data to train a logistic regression model.\n",
    "3. Calculate the balanced accuracy score from sklearn.metrics.\n",
    "4. Print the confusion matrix from sklearn.metrics.\n",
    "5. Generate a classication report using the `imbalanced_classification_report` from imbalanced-learn.\n",
    "\n",
    "Note: Use a random state of 1 for each sampling algorithm to ensure consistency between tests"
   ]
  },
  {
   "cell_type": "markdown",
   "metadata": {},
   "source": [
    "### Naive Random Oversampling"
   ]
  },
  {
   "cell_type": "code",
   "execution_count": 22,
   "metadata": {},
   "outputs": [
    {
     "data": {
      "text/plain": "Counter({'low_risk': 56277, 'high_risk': 56277})"
     },
     "execution_count": 22,
     "metadata": {},
     "output_type": "execute_result"
    }
   ],
   "source": [
    "# Resample the training data with the RandomOversampler\r\n",
    "from imblearn.over_sampling import RandomOverSampler\r\n",
    "\r\n",
    "# View the count of target classes with Counter\r\n",
    "ros = RandomOverSampler(random_state=1)\r\n",
    "X_resampled_ros, y_resample_ros = ros.fit_resample(X_train_scaled, y_train)\r\n",
    "Counter(y_resample_ros)"
   ]
  },
  {
   "cell_type": "code",
   "execution_count": 25,
   "metadata": {},
   "outputs": [
    {
     "data": {
      "text/plain": "LogisticRegression(random_state=1)"
     },
     "execution_count": 25,
     "metadata": {},
     "output_type": "execute_result"
    }
   ],
   "source": [
    "# Train the Logistic Regression model using the resampled data\r\n",
    "from sklearn.linear_model import LogisticRegression\r\n",
    "\r\n",
    "model_ros = LogisticRegression(solver='lbfgs', random_state=1)\r\n",
    "model_ros.fit(X_resampled_ros, y_resample_ros)"
   ]
  },
  {
   "cell_type": "code",
   "execution_count": 26,
   "metadata": {},
   "outputs": [
    {
     "data": {
      "text/plain": "0.9946414201183431"
     },
     "execution_count": 26,
     "metadata": {},
     "output_type": "execute_result"
    }
   ],
   "source": [
    "# Calculated the balanced accuracy score\r\n",
    "y_predict_ros = model_ros.predict(X_test_scaled)\r\n",
    "\r\n",
    "balanced_accuracy_score(y_test, y_predict_ros)"
   ]
  },
  {
   "cell_type": "code",
   "execution_count": 27,
   "metadata": {},
   "outputs": [
    {
     "data": {
      "text/plain": "array([[  622,     3],\n       [  111, 18648]], dtype=int64)"
     },
     "execution_count": 27,
     "metadata": {},
     "output_type": "execute_result"
    }
   ],
   "source": [
    "# Display the confusion matrix\r\n",
    "from sklearn.metrics import confusion_matrix\r\n",
    "confusion_matrix(y_test, y_predict_ros)"
   ]
  },
  {
   "cell_type": "code",
   "execution_count": 28,
   "metadata": {},
   "outputs": [
    {
     "name": "stdout",
     "output_type": "stream",
     "text": [
      "                   pre       rec       spe        f1       geo       iba       sup\n",
      "\n",
      "  high_risk       0.85      1.00      0.99      0.92      0.99      0.99       625\n",
      "   low_risk       1.00      0.99      1.00      1.00      0.99      0.99     18759\n",
      "\n",
      "avg / total       0.99      0.99      1.00      0.99      0.99      0.99     19384\n",
      "\n"
     ]
    }
   ],
   "source": [
    "# Print the imbalanced classification report\r\n",
    "from imblearn.metrics import classification_report_imbalanced\r\n",
    "print(classification_report_imbalanced(y_test, y_predict_ros))"
   ]
  },
  {
   "cell_type": "markdown",
   "metadata": {},
   "source": [
    "### SMOTE Oversampling"
   ]
  },
  {
   "cell_type": "code",
   "execution_count": 29,
   "metadata": {},
   "outputs": [
    {
     "data": {
      "text/plain": "Counter({'low_risk': 56277, 'high_risk': 56277})"
     },
     "execution_count": 29,
     "metadata": {},
     "output_type": "execute_result"
    }
   ],
   "source": [
    "# Resample the training data with SMOTE\r\n",
    "from imblearn.over_sampling import SMOTE\r\n",
    "\r\n",
    "X_resampled_smote, y_resampled_smote = SMOTE(random_state=1, sampling_strategy=1.0).fit_resample(\r\n",
    "    X_train_scaled, y_train\r\n",
    ")\r\n",
    "from collections import Counter\r\n",
    "\r\n",
    "Counter(y_resampled_smote)"
   ]
  },
  {
   "cell_type": "code",
   "execution_count": 30,
   "metadata": {},
   "outputs": [
    {
     "data": {
      "text/plain": "LogisticRegression(random_state=1)"
     },
     "execution_count": 30,
     "metadata": {},
     "output_type": "execute_result"
    }
   ],
   "source": [
    "# Train the Logistic Regression model using the resampled data\r\n",
    "model_smote = LogisticRegression(solver='lbfgs', random_state=1)\r\n",
    "model_smote.fit(X_resampled_smote, y_resampled_smote)"
   ]
  },
  {
   "cell_type": "code",
   "execution_count": 31,
   "metadata": {},
   "outputs": [
    {
     "data": {
      "text/plain": "0.9946414201183431"
     },
     "execution_count": 31,
     "metadata": {},
     "output_type": "execute_result"
    }
   ],
   "source": [
    "# Calculated the balanced accuracy score\r\n",
    "y_predict_smote = model_smote.predict(X_test_scaled)\r\n",
    "balanced_accuracy_score(y_test, y_predict_smote)"
   ]
  },
  {
   "cell_type": "code",
   "execution_count": 32,
   "metadata": {},
   "outputs": [
    {
     "data": {
      "text/plain": "array([[  622,     3],\n       [  111, 18648]], dtype=int64)"
     },
     "execution_count": 32,
     "metadata": {},
     "output_type": "execute_result"
    }
   ],
   "source": [
    "# Display the confusion matrix\r\n",
    "confusion_matrix(y_test, y_predict_smote)"
   ]
  },
  {
   "cell_type": "code",
   "execution_count": 33,
   "metadata": {},
   "outputs": [
    {
     "name": "stdout",
     "output_type": "stream",
     "text": [
      "                   pre       rec       spe        f1       geo       iba       sup\n",
      "\n",
      "  high_risk       0.85      1.00      0.99      0.92      0.99      0.99       625\n",
      "   low_risk       1.00      0.99      1.00      1.00      0.99      0.99     18759\n",
      "\n",
      "avg / total       0.99      0.99      1.00      0.99      0.99      0.99     19384\n",
      "\n"
     ]
    }
   ],
   "source": [
    "# Print the imbalanced classification report\r\n",
    "print(classification_report_imbalanced(y_test, y_predict_smote))"
   ]
  },
  {
   "cell_type": "markdown",
   "metadata": {},
   "source": [
    "# Undersampling\n",
    "\n",
    "In this section, you will test an undersampling algorithm to determine which algorithm results in the best performance compared to the oversampling algorithms above. You will undersample the data using the Cluster Centroids algorithm and complete the folliowing steps:\n",
    "\n",
    "1. View the count of the target classes using `Counter` from the collections library. \n",
    "3. Use the resampled data to train a logistic regression model.\n",
    "3. Calculate the balanced accuracy score from sklearn.metrics.\n",
    "4. Display the confusion matrix from sklearn.metrics.\n",
    "5. Generate a classication report using the `imbalanced_classification_report` from imbalanced-learn.\n",
    "\n",
    "Note: Use a random state of 1 for each sampling algorithm to ensure consistency between tests"
   ]
  },
  {
   "cell_type": "code",
   "execution_count": 34,
   "metadata": {},
   "outputs": [
    {
     "data": {
      "text/plain": "Counter({'high_risk': 1875, 'low_risk': 1875})"
     },
     "execution_count": 34,
     "metadata": {},
     "output_type": "execute_result"
    }
   ],
   "source": [
    "# Resample the data using the ClusterCentroids resampler\r\n",
    "from imblearn.under_sampling import ClusterCentroids\r\n",
    "\r\n",
    "cc = ClusterCentroids(random_state=1)\r\n",
    "X_resampled_cc, y_resampled_cc = cc.fit_resample(X_train_scaled, y_train)\r\n",
    "\r\n",
    "from collections import Counter\r\n",
    "\r\n",
    "Counter(y_resampled_cc)"
   ]
  },
  {
   "cell_type": "code",
   "execution_count": 35,
   "metadata": {},
   "outputs": [
    {
     "data": {
      "text/plain": "LogisticRegression(random_state=1)"
     },
     "execution_count": 35,
     "metadata": {},
     "output_type": "execute_result"
    }
   ],
   "source": [
    "# Train the Logistic Regression model using the resampled data\r\n",
    "from sklearn.linear_model import LogisticRegression\r\n",
    "model_cc = LogisticRegression(solver='lbfgs', random_state=1)\r\n",
    "model_cc.fit(X_resampled_cc, y_resampled_cc)"
   ]
  },
  {
   "cell_type": "code",
   "execution_count": 36,
   "metadata": {},
   "outputs": [
    {
     "data": {
      "text/plain": "0.9932279972279972"
     },
     "execution_count": 36,
     "metadata": {},
     "output_type": "execute_result"
    }
   ],
   "source": [
    "# Calculate the balanced accuracy score\r\n",
    "y_predict_cc = model_cc.predict(X_test_scaled)\r\n",
    "balanced_accuracy_score(y_test, y_predict_cc)"
   ]
  },
  {
   "cell_type": "code",
   "execution_count": 37,
   "metadata": {},
   "outputs": [
    {
     "data": {
      "text/plain": "array([[  620,     5],\n       [  104, 18655]], dtype=int64)"
     },
     "execution_count": 37,
     "metadata": {},
     "output_type": "execute_result"
    }
   ],
   "source": [
    "# Display the confusion matrix\r\n",
    "confusion_matrix(y_test, y_predict_cc)"
   ]
  },
  {
   "cell_type": "code",
   "execution_count": 38,
   "metadata": {},
   "outputs": [
    {
     "name": "stdout",
     "output_type": "stream",
     "text": [
      "                   pre       rec       spe        f1       geo       iba       sup\n",
      "\n",
      "  high_risk       0.86      0.99      0.99      0.92      0.99      0.99       625\n",
      "   low_risk       1.00      0.99      0.99      1.00      0.99      0.99     18759\n",
      "\n",
      "avg / total       1.00      0.99      0.99      0.99      0.99      0.99     19384\n",
      "\n"
     ]
    }
   ],
   "source": [
    "# Print the imbalanced classification report\r\n",
    "print(classification_report_imbalanced(y_test, y_predict_cc))"
   ]
  },
  {
   "cell_type": "markdown",
   "metadata": {},
   "source": [
    "# Combination (Over and Under) Sampling\n",
    "\n",
    "In this section, you will test a combination over- and under-sampling algorithm to determine if the algorithm results in the best performance compared to the other sampling algorithms above. You will resample the data using the SMOTEENN algorithm and complete the folliowing steps:\n",
    "\n",
    "1. View the count of the target classes using `Counter` from the collections library. \n",
    "3. Use the resampled data to train a logistic regression model.\n",
    "3. Calculate the balanced accuracy score from sklearn.metrics.\n",
    "4. Display the confusion matrix from sklearn.metrics.\n",
    "5. Generate a classication report using the `imbalanced_classification_report` from imbalanced-learn.\n",
    "\n",
    "Note: Use a random state of 1 for each sampling algorithm to ensure consistency between tests"
   ]
  },
  {
   "cell_type": "code",
   "execution_count": 39,
   "metadata": {},
   "outputs": [
    {
     "data": {
      "text/plain": "Counter({'high_risk': 55503, 'low_risk': 55948})"
     },
     "execution_count": 39,
     "metadata": {},
     "output_type": "execute_result"
    }
   ],
   "source": [
    "# Resample the training data with SMOTEENN\r\n",
    "from imblearn.combine import SMOTEENN\r\n",
    "\r\n",
    "smote_enn = SMOTEENN(random_state=0)\r\n",
    "X_resampled_se, y_resampled_se= smote_enn.fit_resample(X_train_scaled, y_train)\r\n",
    "Counter(y_resampled_se)"
   ]
  },
  {
   "cell_type": "code",
   "execution_count": 40,
   "metadata": {},
   "outputs": [
    {
     "data": {
      "text/plain": "LogisticRegression(random_state=1)"
     },
     "execution_count": 40,
     "metadata": {},
     "output_type": "execute_result"
    }
   ],
   "source": [
    "# Train the Logistic Regression model using the resampled data\r\n",
    "model_se = LogisticRegression(solver='lbfgs', random_state=1)\r\n",
    "model_se.fit(X_resampled_se, y_resampled_se)"
   ]
  },
  {
   "cell_type": "code",
   "execution_count": 41,
   "metadata": {},
   "outputs": [
    {
     "data": {
      "text/plain": "0.9946414201183431"
     },
     "execution_count": 41,
     "metadata": {},
     "output_type": "execute_result"
    }
   ],
   "source": [
    "# Calculate the balanced accuracy score\r\n",
    "y_predict_se = model_se.predict(X_test_scaled)\r\n",
    "balanced_accuracy_score(y_test, y_predict_se)"
   ]
  },
  {
   "cell_type": "code",
   "execution_count": 42,
   "metadata": {},
   "outputs": [
    {
     "data": {
      "text/plain": "array([[  622,     3],\n       [  111, 18648]], dtype=int64)"
     },
     "execution_count": 42,
     "metadata": {},
     "output_type": "execute_result"
    }
   ],
   "source": [
    "# Display the confusion matrix\r\n",
    "confusion_matrix(y_test, y_predict_se)"
   ]
  },
  {
   "cell_type": "code",
   "execution_count": 43,
   "metadata": {},
   "outputs": [
    {
     "name": "stdout",
     "output_type": "stream",
     "text": [
      "                   pre       rec       spe        f1       geo       iba       sup\n",
      "\n",
      "  high_risk       0.85      1.00      0.99      0.92      0.99      0.99       625\n",
      "   low_risk       1.00      0.99      1.00      1.00      0.99      0.99     18759\n",
      "\n",
      "avg / total       0.99      0.99      1.00      0.99      0.99      0.99     19384\n",
      "\n"
     ]
    }
   ],
   "source": [
    "# Print the imbalanced classification report\r\n",
    "print(classification_report_imbalanced(y_test, y_predict_se))"
   ]
  },
  {
   "cell_type": "markdown",
   "metadata": {},
   "source": [
    "# Final Questions\n",
    "\n",
    "1. Which model had the best balanced accuracy score?\n",
    "\n",
    "   YOUR ANSWER HERE.\n",
    "\n",
    "2. Which model had the best recall score?\n",
    "\n",
    "    YOUR ANSWER HERE.\n",
    "\n",
    "3. Which model had the best geometric mean score?\n",
    "\n",
    "    YOUR ANSWER HERE.\n"
   ]
  },
  {
   "cell_type": "code",
   "execution_count": null,
   "metadata": {},
   "outputs": [],
   "source": []
  }
 ],
 "metadata": {
  "kernelspec": {
   "display_name": "Python 3.7.10 64-bit",
   "name": "python3710jvsc74a57bd07cdeb4ec32b65e6df09f00c72e0bec4f8f61b31f12ce4fd3b20bd2f7fdec2662"
  },
  "language_info": {
   "codemirror_mode": {
    "name": "ipython",
    "version": 3
   },
   "file_extension": ".py",
   "mimetype": "text/x-python",
   "name": "python",
   "nbconvert_exporter": "python",
   "pygments_lexer": "ipython3",
   "version": "3.7.10"
  }
 },
 "nbformat": 4,
 "nbformat_minor": 4
}